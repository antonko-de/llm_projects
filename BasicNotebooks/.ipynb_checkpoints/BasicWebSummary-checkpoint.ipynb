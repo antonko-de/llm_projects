{
 "cells": [
  {
   "cell_type": "code",
   "execution_count": 11,
   "id": "7168b5a4-71c5-415f-a3f7-19bfab405422",
   "metadata": {},
   "outputs": [],
   "source": [
    "import os\n",
    "import requests\n",
    "\n",
    "from bs4 import BeautifulSoup\n",
    "from IPython.display import Markdown, display\n",
    "import ollama"
   ]
  },
  {
   "cell_type": "code",
   "execution_count": 12,
   "id": "cf2b1d21-d46b-4f6f-ba5a-440924702c06",
   "metadata": {},
   "outputs": [],
   "source": [
    "class Website:\n",
    "\n",
    "    def __init__(self, url):\n",
    "        \"\"\"\n",
    "        Create this Website object from the given url using the BeautifulSoup library\n",
    "        \"\"\"\n",
    "        self.url = url\n",
    "        response = requests.get(url, headers=headers)\n",
    "        soup = BeautifulSoup(response.content, 'html.parser')\n",
    "        self.title = soup.title.string if soup.title else \"No title found\"\n",
    "        for irrelevant in soup.body([\"script\", \"style\", \"img\", \"input\"]):\n",
    "            irrelevant.decompose()\n",
    "        self.text = soup.body.get_text(separator=\"\\n\", strip=True)\n",
    "\n",
    "def user_prompt_for(website):\n",
    "    user_prompt = f\"You are looking at a website titled {website.title}\"\n",
    "    user_prompt += \"\\nThe contents of this website is as follows; \\\n",
    "please provide a short summary of this website in markdown. \\\n",
    "If it includes news or announcements, then summarize these too.\\n\\n\"\n",
    "    user_prompt += website.text\n",
    "    return user_prompt\n",
    "\n",
    "def prompt_formating(user_prompt:str, system_prompt:str)->list:\n",
    "    messages = [\n",
    "        {\"role\": \"system\", \"content\": system_prompt},\n",
    "        {\"role\": \"user\", \"content\": user_prompt}\n",
    "        ]\n",
    "    return messages\n",
    "\n",
    "def summarize_website(url:str,model:str)->str:\n",
    "    website = Website(url)\n",
    "    system_prompt = \"You are an assistant that analyzes the contents of a website \\\n",
    "                    and provides a short summary, ignoring text that might be navigation related. \\\n",
    "                    Respond in markdown.\"\n",
    "    user_prompt = user_prompt_for(website)\n",
    "    messages = prompt_formating(user_prompt=user_prompt, system_prompt=system_prompt)\n",
    "    response = ollama.chat(model=MODEL, messages=messages)\n",
    "    return response['message']['content']\n",
    "\n",
    "    \n",
    "    \n",
    "    \n",
    "    "
   ]
  },
  {
   "cell_type": "code",
   "execution_count": 17,
   "id": "cc85b81f-5947-4d04-8981-2e30094bbfa1",
   "metadata": {},
   "outputs": [],
   "source": [
    "MODEL = \"llama3.1\""
   ]
  },
  {
   "cell_type": "code",
   "execution_count": 20,
   "id": "326432a4-eb1d-44b8-b5ea-c62fc1d6aa26",
   "metadata": {},
   "outputs": [],
   "source": [
    "result = summarize_website(url=\"https://sportal.bg\", model=MODEL)"
   ]
  },
  {
   "cell_type": "code",
   "execution_count": 21,
   "id": "b45544fd-631b-4dc7-9f88-ae96cfc3f978",
   "metadata": {},
   "outputs": [
    {
     "name": "stdout",
     "output_type": "stream",
     "text": [
      "Този текст изглежда като списание или уебсайт, посветен на спортни новини. В него има различни статии и репортажи по разни спортове, включително футбол, баскетбол, волейбол и тенис. Кликнете върху някой от съдържанието за да видите повече.\n"
     ]
    }
   ],
   "source": [
    "print(result)"
   ]
  },
  {
   "cell_type": "code",
   "execution_count": null,
   "id": "35657808-4f69-4674-9c05-7bd3e58ea8b0",
   "metadata": {},
   "outputs": [],
   "source": []
  }
 ],
 "metadata": {
  "kernelspec": {
   "display_name": "Python 3 (ipykernel)",
   "language": "python",
   "name": "python3"
  },
  "language_info": {
   "codemirror_mode": {
    "name": "ipython",
    "version": 3
   },
   "file_extension": ".py",
   "mimetype": "text/x-python",
   "name": "python",
   "nbconvert_exporter": "python",
   "pygments_lexer": "ipython3",
   "version": "3.11.11"
  }
 },
 "nbformat": 4,
 "nbformat_minor": 5
}
