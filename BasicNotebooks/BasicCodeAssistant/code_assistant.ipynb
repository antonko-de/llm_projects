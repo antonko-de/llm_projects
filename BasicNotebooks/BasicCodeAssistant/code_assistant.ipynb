{
 "cells": [
  {
   "cell_type": "code",
   "execution_count": 39,
   "id": "c1070317-3ed9-4659-abe3-828943230e03",
   "metadata": {},
   "outputs": [],
   "source": [
    "import yaml\n",
    "\n",
    "import ollama"
   ]
  },
  {
   "cell_type": "code",
   "execution_count": 40,
   "id": "cdfb3066-11f7-47c0-871d-bc91cd9a62c6",
   "metadata": {},
   "outputs": [],
   "source": [
    "def format_prompt(system_prompt:str)->list:\n",
    "    user_prompt = input(\"Please enter your question: \")\n",
    "    messages = [\n",
    "        {\"role\": \"system\", \"content\": system_prompt},\n",
    "        {\"role\": \"user\", \"content\": user_prompt}\n",
    "        ]\n",
    "    return messages\n",
    "\n",
    "def get_reponse(model:str, messages:list)->str:\n",
    "    stream = ollama.chat(model=MODEL, messages=messages, stream=True)\n",
    "\n",
    "    response = \"\"\n",
    "    display_handle = display(Markdown(\"\"), display_id=True)\n",
    "    for chunk in stream:\n",
    "        response += chunk[\"message\"][\"content\"]\n",
    "        response = response.replace(\"```\",\"\").replace(\"markdown\", \"\")\n",
    "        update_display(Markdown(response), display_id=display_handle.display_id)"
   ]
  },
  {
   "cell_type": "code",
   "execution_count": 41,
   "id": "473b54bd-84de-493c-9afc-8e2fd16df3ed",
   "metadata": {},
   "outputs": [],
   "source": [
    "config_file_path = \"code_assistant_configs.yml\"\n",
    "\n",
    "with open(config_file_path, 'r') as file:\n",
    "    config = yaml.safe_load(file)"
   ]
  },
  {
   "cell_type": "code",
   "execution_count": 42,
   "id": "4a456906-915a-4bfd-bb9d-57e505c5093f",
   "metadata": {},
   "outputs": [],
   "source": [
    "# constants\n",
    "MODEL = config.get('model')\n",
    "SYSTEM_PROMPT = \"\"\"You are a senior software engineer. Also a great programming tutor. When answering to questions you will provide reasoning behind your code choice\"\"\""
   ]
  },
  {
   "cell_type": "code",
   "execution_count": 43,
   "id": "60ce7000-a4a5-4cce-a261-e75ef45063b4",
   "metadata": {},
   "outputs": [
    {
     "name": "stdin",
     "output_type": "stream",
     "text": [
      "Please enter your question:  Explain what is this def factorial(n):     # Base case: if n is 0 or 1, return 1     if n == 0 or n == 1:         return 1          # Recursive case: n * factorial of (n-1)     else:         return n * factorial(n - 1)\n"
     ]
    }
   ],
   "source": [
    "messages = format_prompt(system_prompt=SYSTEM_PROMPT)"
   ]
  },
  {
   "cell_type": "code",
   "execution_count": 44,
   "id": "ab80e65c-5286-4fb6-89a3-35083f6109a7",
   "metadata": {},
   "outputs": [
    {
     "data": {
      "text/markdown": [
       "This code defines a function `factorial` that calculates the factorial of a non-negative integer `n`. The factorial of a number is the product of all positive integers less than or equal to that number. For example, the factorial of 5 (denoted as 5!) is \\( 5 \\times 4 \\times 3 \\times 2 \\times 1 = 120 \\).\n",
       "\n",
       "Here's a breakdown of the code:\n",
       "\n",
       "1. **Base Case**:\n",
       "   python\n",
       "   if n == 0 or n == 1:\n",
       "       return 1\n",
       "   \n",
       "   The base case handles the two simplest scenarios where the factorial is known directly:\n",
       "   - \\( 0! = 1 \\)\n",
       "   - \\( 1! = 1 \\)\n",
       "\n",
       "2. **Recursive Case**:\n",
       "   python\n",
       "   else:\n",
       "       return n * factorial(n - 1)\n",
       "   \n",
       "   If `n` is not 0 or 1, the function calls itself with the argument `n-1`. This recursive call continues until it reaches the base case.\n",
       "\n",
       "### Example Execution\n",
       "\n",
       "Let's see how this works with an example:\n",
       "\n",
       "If we call `factorial(5)`:\n",
       "- Initially, `n = 5`\n",
       "- The function checks if `n` is 0 or 1. Since it's not, it proceeds to the recursive case.\n",
       "- It returns `5 * factorial(4)`\n",
       "\n",
       "Next, in `factorial(4)`:\n",
       "- `n = 4`\n",
       "- The function checks if `n` is 0 or 1. Since it's not, it proceeds to the recursive case.\n",
       "- It returns `4 * factorial(3)`\n",
       "\n",
       "Then, in `factorial(3)`:\n",
       "- `n = 3`\n",
       "- The function checks if `n` is 0 or 1. Since it's not, it proceeds to the recursive case.\n",
       "- It returns `3 * factorial(2)`\n",
       "\n",
       "Next, in `factorial(2)`:\n",
       "- `n = 2`\n",
       "- The function checks if `n` is 0 or 1. Since it's not, it proceeds to the recursive case.\n",
       "- It returns `2 * factorial(1)`\n",
       "\n",
       "Finally, in `factorial(1)`:\n",
       "- `n = 1`\n",
       "- The function checks if `n` is 0 or 1. Since it is, it returns 1.\n",
       "\n",
       "Now, the stack starts unwinding and the final result is calculated:\n",
       "- `factorial(2)` returns `2 * 1 = 2`\n",
       "- `factorial(3)` returns `3 * 2 = 6`\n",
       "- `factorial(4)` returns `4 * 6 = 24`\n",
       "- `factorial(5)` returns `5 * 24 = 120`\n",
       "\n",
       "### Why Recursion?\n",
       "\n",
       "Using recursion in this case is beneficial because it simplifies the code and mirrors the mathematical definition of factorial. However, it's important to note that for large values of `n`, recursion can lead to a stack overflow error due to too many nested function calls. For practical applications, especially with larger numbers, iterative solutions or memoization might be preferred.\n",
       "\n",
       "### Iterative Version\n",
       "\n",
       "Here's how you could implement the factorial function iteratively:\n",
       "\n",
       "python\n",
       "def factorial_iterative(n):\n",
       "    result = 1\n",
       "    for i in range(2, n + 1):\n",
       "        result *= i\n",
       "    return result\n",
       "\n",
       "\n",
       "This iterative version is more efficient in terms of space complexity as it doesn't use the call stack."
      ],
      "text/plain": [
       "<IPython.core.display.Markdown object>"
      ]
     },
     "metadata": {},
     "output_type": "display_data"
    }
   ],
   "source": [
    "get_reponse(model=MODEL, messages=messages)"
   ]
  },
  {
   "cell_type": "code",
   "execution_count": null,
   "id": "82a77b34-6338-4d57-970e-c8565ba9bc65",
   "metadata": {},
   "outputs": [],
   "source": []
  }
 ],
 "metadata": {
  "kernelspec": {
   "display_name": "Python 3 (ipykernel)",
   "language": "python",
   "name": "python3"
  },
  "language_info": {
   "codemirror_mode": {
    "name": "ipython",
    "version": 3
   },
   "file_extension": ".py",
   "mimetype": "text/x-python",
   "name": "python",
   "nbconvert_exporter": "python",
   "pygments_lexer": "ipython3",
   "version": "3.11.11"
  }
 },
 "nbformat": 4,
 "nbformat_minor": 5
}
